{
 "cells": [
  {
   "cell_type": "code",
   "execution_count": 11,
   "metadata": {},
   "outputs": [
    {
     "name": "stderr",
     "output_type": "stream",
     "text": [
      "The attention mask and the pad token id were not set. As a consequence, you may observe unexpected behavior. Please pass your input's `attention_mask` to obtain reliable results.\n",
      "Setting `pad_token_id` to `eos_token_id`:2 for open-end generation.\n"
     ]
    },
    {
     "name": "stdout",
     "output_type": "stream",
     "text": [
      "北京，这座历史悠久、文化底蕴深厚的城市，拥有众多令人向往的景点。以下是五个不容错过的北京景点推荐：\n",
      "\n",
      "1. **故宫博物院**：作为世界上现存规模最大、保存最完整的木质结构古建筑群，故宫（紫禁城）曾是明清两代皇宫，见证了中国24位皇帝的统治。这里收藏了大量珍贵的文物和艺术品，是了解中国历史和文化的绝佳场所。\n",
      "\n",
      "2. **颐和园**：这座皇家园林是中国保存最完整的皇家园林，以其精美的建筑、广阔的水面、精致的亭台楼阁和古木名花而闻名。颐和园不仅展示了中国古代园林艺术的精华，也是了解中国皇家生活的重要窗口。\n",
      "\n",
      "3. **八达岭长城**：作为中华民族的象征，八达岭长城是长城中最著名、保存最完好的一段。站在长城之上，可以俯瞰壮丽的山川，感受历史的厚重与自然的壮美。\n",
      "\n",
      "4. **天坛公园**：天坛是明清两代皇帝祭天祈谷的场所，以其独特的建筑风格和深厚的文化内涵而著称。祈年殿、皇穹宇、圜丘等建筑群展现了中国古代建筑的精湛技艺和哲学思想。\n",
      "\n",
      "5. **北京动物园**：虽然它可能不是北京最著名的景点，但北京动物园是中国最早建立的动物园之一，拥有丰富的动物种类，是了解中国本土野生动物和生态多样性的好去处。\n",
      "\n",
      "以上景点各具特色，无论是历史爱好者、文化探索者还是自然爱好者，都能在北京找到属于自己的精彩体验。\n"
     ]
    }
   ],
   "source": [
    "from transformers import AutoModelForCausalLM, AutoTokenizer\n",
    "import torch\n",
    "\n",
    "path = \"model/MiniCPM3-4B\"\n",
    "device = \"cpu\"\n",
    "\n",
    "tokenizer = AutoTokenizer.from_pretrained(path, trust_remote_code=True)\n",
    "model = AutoModelForCausalLM.from_pretrained(path, torch_dtype=torch.bfloat16, device_map=device, trust_remote_code=True)\n",
    "\n",
    "messages = [\n",
    "    {\"role\": \"user\", \"content\": \"推荐5个北京的景点。\"},\n",
    "]\n",
    "model_inputs = tokenizer.apply_chat_template(messages, return_tensors=\"pt\", add_generation_prompt=True).to(device)\n",
    "\n",
    "model_outputs = model.generate(\n",
    "    model_inputs,\n",
    "    max_new_tokens=1024,\n",
    "    top_p=0.7,\n",
    "    temperature=0.7\n",
    ")\n",
    "\n",
    "output_token_ids = [\n",
    "    model_outputs[i][len(model_inputs[i]):] for i in range(len(model_inputs))\n",
    "]\n",
    "\n",
    "responses = tokenizer.batch_decode(output_token_ids, skip_special_tokens=True)[0]\n",
    "print(responses)\n"
   ]
  }
 ],
 "metadata": {
  "kernelspec": {
   "display_name": "base",
   "language": "python",
   "name": "python3"
  },
  "language_info": {
   "codemirror_mode": {
    "name": "ipython",
    "version": 3
   },
   "file_extension": ".py",
   "mimetype": "text/x-python",
   "name": "python",
   "nbconvert_exporter": "python",
   "pygments_lexer": "ipython3",
   "version": "3.12.2"
  }
 },
 "nbformat": 4,
 "nbformat_minor": 2
}

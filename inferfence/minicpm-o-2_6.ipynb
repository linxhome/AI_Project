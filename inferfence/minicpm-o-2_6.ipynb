{
 "cells": [
  {
   "cell_type": "markdown",
   "metadata": {},
   "source": [
    "```\n",
    "pip install torch pillow transformers soundfile librosa vector-quantize-pytorch vocos accelerate\n",
    "```"
   ]
  },
  {
   "cell_type": "code",
   "execution_count": 1,
   "metadata": {},
   "outputs": [
    {
     "name": "stderr",
     "output_type": "stream",
     "text": [
      "/opt/homebrew/Caskroom/miniconda/base/envs/myenv/lib/python3.10/site-packages/tqdm/auto.py:21: TqdmWarning: IProgress not found. Please update jupyter and ipywidgets. See https://ipywidgets.readthedocs.io/en/stable/user_install.html\n",
      "  from .autonotebook import tqdm as notebook_tqdm\n",
      "/opt/homebrew/Caskroom/miniconda/base/envs/myenv/lib/python3.10/site-packages/transformers/models/auto/image_processing_auto.py:513: FutureWarning: The image_processor_class argument is deprecated and will be removed in v4.42. Please use `slow_image_processor_class`, or `fast_image_processor_class` instead\n",
      "  warnings.warn(\n",
      "Loading checkpoint shards: 100%|██████████| 4/4 [00:00<00:00,  8.00it/s]\n"
     ]
    }
   ],
   "source": [
    "import torch\n",
    "from PIL import Image\n",
    "import os\n",
    "from transformers import AutoModel, AutoTokenizer\n",
    "\n",
    "# load omni model default, the default init_vision/init_audio/init_tts is True\n",
    "# if load vision-only model, please set init_audio=False and init_tts=False\n",
    "# if load audio-only model, please set init_vision=False\n",
    "path = \"/Volumes/SSD/code-ssd/AI_Project/inferfence/model/MiniCPM-o-26\"\n",
    "#path = \"model/MiniCPM3-4B\"\n",
    "model = AutoModel.from_pretrained(\n",
    "    path,\n",
    "    trust_remote_code=True,\n",
    "    attn_implementation='sdpa', # sdpa or flash_attention_2\n",
    "    torch_dtype=torch.bfloat16,\n",
    "    init_vision=True,\n",
    "    init_audio=True,\n",
    "    init_tts=True,\n",
    "    local_files_only=True\n",
    ")\n",
    "\n",
    "model = model.to('mps')\n",
    "tokenizer = AutoTokenizer.from_pretrained(path, trust_remote_code=True,local_files_only=True)\n",
    "\n"
   ]
  },
  {
   "cell_type": "markdown",
   "metadata": {},
   "source": [
    "需要修改 modeling_minicpmo.py 里的cuda 转换成 cpu or mps"
   ]
  },
  {
   "cell_type": "code",
   "execution_count": 2,
   "metadata": {},
   "outputs": [],
   "source": [
    "\n",
    "# In addition to vision-only mode, tts processor and vocos also needs to be initialized\n",
    "model.init_tts()\n"
   ]
  },
  {
   "cell_type": "markdown",
   "metadata": {},
   "source": [
    "```\n",
    " pip install moviepy==1.0.3 \n",
    " pip install transformers==4.44.2\n",
    " 安装固定版本，否则会出现类找不到的问题\n",
    "```"
   ]
  },
  {
   "cell_type": "code",
   "execution_count": 6,
   "metadata": {},
   "outputs": [
    {
     "name": "stdout",
     "output_type": "stream",
     "text": [
      "{'role': 'user', 'content': ['You are a helpful assistant. You can accept video, audio and text input and output voice and text. Clone the voice in the provided audio prompt.', array([ 0.0000000e+00,  0.0000000e+00,  0.0000000e+00, ...,\n",
      "       -3.2558626e-05, -1.0545147e-05,  2.7744500e-06], dtype=float32), 'As an assistant, you will speak using this voice style.']}\n"
     ]
    }
   ],
   "source": [
    "import math\n",
    "import numpy as np\n",
    "from PIL import Image\n",
    "from moviepy.editor import VideoFileClip\n",
    "import tempfile\n",
    "import librosa\n",
    "import soundfile as sf\n",
    "\n",
    "def get_video_chunk_content(video_path, flatten=True):\n",
    "    video = VideoFileClip(video_path)\n",
    "    print('video_duration:', video.duration)\n",
    "    \n",
    "    with tempfile.NamedTemporaryFile(suffix=\".wav\", delete=True) as temp_audio_file:\n",
    "        temp_audio_file_path = temp_audio_file.name\n",
    "        video.audio.write_audiofile(temp_audio_file_path, codec=\"pcm_s16le\", fps=16000)\n",
    "        audio_np, sr = librosa.load(temp_audio_file_path, sr=16000, mono=True)\n",
    "    num_units = math.ceil(video.duration)\n",
    "    \n",
    "    # 1 frame + 1s audio chunk\n",
    "    contents= []\n",
    "    for i in range(num_units):\n",
    "        frame = video.get_frame(i+1)\n",
    "        image = Image.fromarray((frame).astype(np.uint8))\n",
    "        audio = audio_np[sr*i:sr*(i+1)]\n",
    "        if flatten:\n",
    "            contents.extend([\"<unit>\", image, audio])\n",
    "        else:\n",
    "            contents.append([\"<unit>\", image, audio])\n",
    "    return contents\n",
    "\n",
    "path = \"/Volumes/SSD/code-ssd/AI_Project/inferfence/model/MiniCPM-o-26\"\n",
    "video_path= path  + \"/assets/Skiing.mp4\"\n",
    "# if use voice clone prompt, please set ref_audio\n",
    "ref_audio_path = path  +'/assets/demo.wav'\n",
    "ref_audio, _ = librosa.load(ref_audio_path, sr=16000, mono=True)\n",
    "sys_msg = model.get_sys_prompt(ref_audio=ref_audio, mode='omni', language='en')\n",
    "print(sys_msg)\n",
    "# or use default prompt\n",
    "# sys_msg = model.get_sys_prompt(mode='omni', language='en')\n"
   ]
  },
  {
   "cell_type": "code",
   "execution_count": null,
   "metadata": {},
   "outputs": [],
   "source": [
    "\n",
    "contents = get_video_chunk_content(video_path)\n",
    "msg = {\"role\":\"user\", \"content\": contents}\n",
    "msgs = [sys_msg, msg]\n",
    "\n",
    "# please set generate_audio=True and output_audio_path to save the tts result\n",
    "generate_audio = True\n",
    "output_audio_path = 'output.wav'\n",
    "\n",
    "res = model.chat(\n",
    "    msgs=msgs,\n",
    "    tokenizer=tokenizer,\n",
    "    sampling=True,\n",
    "    temperature=0.5,\n",
    "    max_new_tokens=4096,\n",
    "    omni_input=True, # please set omni_input=True when omni inference\n",
    "    use_tts_template=True,\n",
    "    generate_audio=generate_audio,\n",
    "    output_audio_path=output_audio_path,\n",
    "    max_slice_nums=1,\n",
    "    use_image_id=False,\n",
    "    return_dict=True\n",
    ")\n",
    "print(res)"
   ]
  }
 ],
 "metadata": {
  "kernelspec": {
   "display_name": "myenv",
   "language": "python",
   "name": "python3"
  },
  "language_info": {
   "codemirror_mode": {
    "name": "ipython",
    "version": 3
   },
   "file_extension": ".py",
   "mimetype": "text/x-python",
   "name": "python",
   "nbconvert_exporter": "python",
   "pygments_lexer": "ipython3",
   "version": "3.10.16"
  }
 },
 "nbformat": 4,
 "nbformat_minor": 2
}
